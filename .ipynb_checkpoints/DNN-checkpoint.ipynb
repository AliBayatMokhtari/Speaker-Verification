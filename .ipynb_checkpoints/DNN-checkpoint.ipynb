{
 "cells": [
  {
   "cell_type": "code",
   "execution_count": 4,
   "metadata": {},
   "outputs": [],
   "source": [
    "from glob import glob\n",
    "import os\n",
    "from scipy.io import wavfile\n",
    "import python_speech_features\n",
    "import numpy as np\n",
    "import sounddevice as sd\n",
    "import time\n",
    "import joblib\n",
    "from sklearn.decomposition import PCA\n",
    "import tensorflow"
   ]
  },
  {
   "cell_type": "code",
   "execution_count": 5,
   "metadata": {},
   "outputs": [],
   "source": [
    "tensorflow.compat.v1.logging.set_verbosity(tensorflow.compat.v1.logging.ERROR) # Ignore tensorflow warnings"
   ]
  },
  {
   "cell_type": "code",
   "execution_count": 6,
   "metadata": {},
   "outputs": [],
   "source": [
    "def read_files(direction, name=''):\n",
    "    if not os.path.exists(direction):\n",
    "        raise 'Directory is not available'\n",
    "    files = '{}/{}*.wav'.format(direction, name)\n",
    "    return glob(files)"
   ]
  },
  {
   "cell_type": "code",
   "execution_count": 7,
   "metadata": {},
   "outputs": [],
   "source": [
    "def extract(audio):\n",
    "    SAMPLE_RATE = 11025\n",
    "    FRAME_LENGTH = int(SAMPLE_RATE * 0.025)\n",
    "    FRAME_STEP = FRAME_LENGTH - int(SAMPLE_RATE * 0.015)\n",
    "    PRE_EMPH = 0.97\n",
    "    WINDOW_LENGTH = 0.025\n",
    "    WINDOW_STEP = 0.010\n",
    "    WINDOW_FUNCTION = np.hamming\n",
    "    f = []\n",
    "    \n",
    "    def calculate_all(feats):\n",
    "            f.extend(feats.min(axis=0))\n",
    "            f.extend(feats.max(axis=0))\n",
    "            f.extend(feats.mean(axis=0))\n",
    "            f.extend(feats.var(axis=0))\n",
    "    \n",
    "    def calculate_energy(frames):\n",
    "        energies = []\n",
    "        for frame in frames:\n",
    "            energy = 1 / len(frame) * np.sum(np.power(frame, 2))\n",
    "            energies.append(energy)\n",
    "        return energies\n",
    "    \n",
    "    def calculate_zcr(frames):\n",
    "        def sign(x):\n",
    "            return 1 if x >= 0 else -1\n",
    "        \n",
    "        zc_rates = []\n",
    "        for frame in frames:\n",
    "            zc_rate = 0\n",
    "            for i in range(1, len(frame)):\n",
    "                zc_rate += abs(sign(frame[i]) - sign(frame[i - 1])) / 2\n",
    "            zc_rates.append(zc_rate / len(frame))\n",
    "        return zc_rates\n",
    "    \n",
    "    rate, signal = wavfile.read(audio)\n",
    "    signal_frames = python_speech_features.sigproc.framesig(signal, frame_len=FRAME_LENGTH,\n",
    "                                                            frame_step=FRAME_STEP,\n",
    "                                                            winfunc=WINDOW_FUNCTION)\n",
    "    mfcc = python_speech_features.mfcc(signal_frames, rate, winlen=WINDOW_LENGTH,\n",
    "                                      winstep=WINDOW_STEP, numcep=13, preemph=PRE_EMPH,\n",
    "                                      winfunc=WINDOW_FUNCTION)\n",
    "    delta = np.concatenate([np.zeros(shape=(1, 13)), np.diff(mfcc, n=1, axis=0)])\n",
    "    delta_delta = np.concatenate([np.zeros(shape=(2, 13)), np.diff(mfcc, n=2, axis=0)])\n",
    "    \n",
    "    calculate_all(mfcc)\n",
    "    calculate_all(delta)\n",
    "    calculate_all(delta_delta)\n",
    "    \n",
    "    energies = calculate_energy(signal_frames)\n",
    "    calculate_all(np.array([energies]).reshape(len(energies), 1))\n",
    "    \n",
    "    zcrs = calculate_zcr(signal_frames)\n",
    "    calculate_all(np.array([zcrs]).reshape(len(zcrs), 1))\n",
    "    \n",
    "    return np.asarray(f)\n",
    "\n",
    "\n",
    "def batch_extract(direction):\n",
    "    feats, labels = [], []\n",
    "    \n",
    "    valid_samples = read_files(direction, name='ABM')\n",
    "    for sample in valid_samples:\n",
    "        sample_feats = extract(sample)\n",
    "        feats.append(sample_feats)\n",
    "        labels.append(1)\n",
    "    \n",
    "    invalid_samples = read_files(direction, name='NABM')\n",
    "    for sample in invalid_samples:\n",
    "        sample_feats = extract(sample)\n",
    "        feats.append(sample_feats)\n",
    "        labels.append(0)\n",
    "    \n",
    "    return np.asarray(feats), np.asarray(labels)"
   ]
  },
  {
   "cell_type": "code",
   "execution_count": 8,
   "metadata": {},
   "outputs": [],
   "source": [
    "def record(samplerate=11025, duration=2, play_rec=False, flag='test'):\n",
    "    FRAMES = int(duration * samplerate)\n",
    "    print('Recording Started')\n",
    "    voice = sd.rec(FRAMES, samplerate, dtype=np.float, channels=1, mapping=None, blocking=True)\n",
    "    print('Recording Ended')\n",
    "    \n",
    "    if play_rec is True:\n",
    "        sd.play(voice, samplerate, blocking=True)\n",
    "    \n",
    "    if flag == 'test':\n",
    "        wavfile.write(filename='temp.wav', rate=samplerate, data=voice)\n",
    "        time.sleep(1)\n",
    "    elif flag == 'train':\n",
    "        return voice, samplerate\n",
    "    \n",
    "    \n",
    "def batch_record(direction, count, name):\n",
    "    if not os.path.exists(direction):\n",
    "        os.makedirs(direction)\n",
    "    \n",
    "    last_file = len(read_files(direction, name))\n",
    "    for cnt in range(last_file, last_file + count):\n",
    "        file_name = '{}/{}.wav'.format(direction, name + str(cnt))\n",
    "        voice, samplerate = record(flag='train')\n",
    "        wavfile.write(filename, samplerate, data=voice)\n",
    "        time.sleep(0.5)"
   ]
  },
  {
   "cell_type": "code",
   "execution_count": 9,
   "metadata": {},
   "outputs": [],
   "source": [
    "def create_network(feats, labels, n_hiddenlayers=3, _epochs=20, pca_flag=False):\n",
    "    net = tensorflow.keras.models.Sequential()\n",
    "    \n",
    "    net.add(tensorflow.keras.layers.Flatten())\n",
    "    for _ in range(n_hiddenlayers):\n",
    "        net.add(tensorflow.keras.layers.Dense(units=128, activation=tensorflow.nn.relu))\n",
    "    \n",
    "    net.add(tensorflow.keras.layers.Dense(units=2, activation=tensorflow.nn.softmax))\n",
    "    net.compile(optimizer='adam', loss='sparse_categorical_crossentropy', metrics=['accuracy'])\n",
    "    \n",
    "    if pca_flag is True:\n",
    "        pca = joblib.load('pca_dnn.pkl')\n",
    "        feats = pca.transform(feats)\n",
    "    \n",
    "    net.fit(feats, labels, epochs=_epochs)\n",
    "    net.save('net.h5')\n",
    "    \n",
    "    \n",
    "def predict(net, audio, pca_flag=False):\n",
    "    feats = extract(audio)\n",
    "    \n",
    "    if pca_flag is True:\n",
    "        pca = joblib.load('pca_dnn.pkl')\n",
    "        feats = pca.transform(feats.reshape(1, -1))\n",
    "        \n",
    "    score = net.predict(feats.reshape(1, -1))\n",
    "    res_class = net.predict_classes(feats.reshape(1, -1))\n",
    "    \n",
    "    if res_class == 1:\n",
    "        print('\\n\\nAli Bayat Mokhtari Verified.')\n",
    "    elif res_class == 0:\n",
    "        print('\\n\\nNot Verified!')\n",
    "        \n",
    "    print('score is: {}'.format(score))\n",
    "    return res_class\n",
    "\n",
    "\n",
    "def single_test():\n",
    "    record(play_rec=True)\n",
    "    net = tensorflow.keras.models.load_model('net.h5')\n",
    "    res = predict(net, 'temp.wav', pca_flag=True)\n",
    "    print(res)\n",
    "    return res\n",
    "\n",
    "\n",
    "def calculate_accuracy(direction, pcaflag, name, cls):\n",
    "    net = tensorflow.keras.models.load_model('net.h5')\n",
    "    files = read_files(direction, name=name)\n",
    "    cnt = 0\n",
    "    for _file in files:\n",
    "        test_class = predict(net, audio=_file, pca_flag=pcaflag)\n",
    "        print(_file, test_class)\n",
    "        if test_class == cls:\n",
    "            cnt += 1\n",
    "    print('\\n\\naccuracy is: {}'.format((cnt / len(files)) * 100))"
   ]
  },
  {
   "cell_type": "code",
   "execution_count": 10,
   "metadata": {},
   "outputs": [],
   "source": [
    "def create_pca(feats, n_feats):\n",
    "    pca = PCA(n_components=n_feats, whiten=True)\n",
    "    pca.fit(feats)\n",
    "    joblib.dump(pca, filename='pca_dnn.pkl')"
   ]
  },
  {
   "cell_type": "code",
   "execution_count": 11,
   "metadata": {},
   "outputs": [
    {
     "name": "stdout",
     "output_type": "stream",
     "text": [
      "Epoch 1/10\n",
      "560/560 [==============================] - 0s 217us/sample - loss: 0.5831 - acc: 0.7000\n",
      "Epoch 2/10\n",
      "560/560 [==============================] - 0s 71us/sample - loss: 0.3374 - acc: 0.9250\n",
      "Epoch 3/10\n",
      "560/560 [==============================] - 0s 72us/sample - loss: 0.1844 - acc: 0.9536\n",
      "Epoch 4/10\n",
      "560/560 [==============================] - 0s 94us/sample - loss: 0.1088 - acc: 0.9750\n",
      "Epoch 5/10\n",
      "560/560 [==============================] - 0s 79us/sample - loss: 0.0701 - acc: 0.9875\n",
      "Epoch 6/10\n",
      "560/560 [==============================] - 0s 80us/sample - loss: 0.0471 - acc: 0.9946\n",
      "Epoch 7/10\n",
      "560/560 [==============================] - 0s 81us/sample - loss: 0.0308 - acc: 1.0000\n",
      "Epoch 8/10\n",
      "560/560 [==============================] - 0s 60us/sample - loss: 0.0219 - acc: 1.0000\n",
      "Epoch 9/10\n",
      "560/560 [==============================] - 0s 83us/sample - loss: 0.0156 - acc: 1.0000\n",
      "Epoch 10/10\n",
      "560/560 [==============================] - 0s 75us/sample - loss: 0.0115 - acc: 1.0000\n"
     ]
    }
   ],
   "source": [
    "feats, labels = batch_extract(direction='./train')\n",
    "create_pca(feats, n_feats=40)\n",
    "create_network(feats, labels, n_hiddenlayers=2, _epochs=10, pca_flag=True)"
   ]
  },
  {
   "cell_type": "code",
   "execution_count": 12,
   "metadata": {},
   "outputs": [
    {
     "name": "stdout",
     "output_type": "stream",
     "text": [
      "Recording Started\n",
      "Recording Ended\n",
      "\n",
      "\n",
      "Ali Bayat Mokhtari Verified.\n",
      "score is: [[0.01602994 0.98397   ]]\n",
      "[1]\n"
     ]
    }
   ],
   "source": [
    "ans = single_test()"
   ]
  },
  {
   "cell_type": "code",
   "execution_count": null,
   "metadata": {
    "scrolled": true
   },
   "outputs": [],
   "source": [
    "calculate_accuracy(direction='./train', pcaflag=True, name='NABM', cls=0)"
   ]
  },
  {
   "cell_type": "code",
   "execution_count": null,
   "metadata": {},
   "outputs": [],
   "source": []
  }
 ],
 "metadata": {
  "kernelspec": {
   "display_name": "Python 3",
   "language": "python",
   "name": "python3"
  },
  "language_info": {
   "codemirror_mode": {
    "name": "ipython",
    "version": 3
   },
   "file_extension": ".py",
   "mimetype": "text/x-python",
   "name": "python",
   "nbconvert_exporter": "python",
   "pygments_lexer": "ipython3",
   "version": "3.7.2"
  }
 },
 "nbformat": 4,
 "nbformat_minor": 2
}
